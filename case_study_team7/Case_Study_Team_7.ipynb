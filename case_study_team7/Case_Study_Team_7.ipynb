{
  "nbformat": 4,
  "nbformat_minor": 0,
  "metadata": {
    "colab": {
      "provenance": []
    },
    "kernelspec": {
      "name": "python3",
      "display_name": "Python 3"
    },
    "language_info": {
      "name": "python"
    }
  },
  "cells": [
    {
      "cell_type": "code",
      "execution_count": 3,
      "metadata": {
        "id": "YDycPHMNaGPB",
        "outputId": "6ed46e29-d8e6-4ce5-a3f1-624f8dc126dd",
        "colab": {
          "base_uri": "https://localhost:8080/"
        }
      },
      "outputs": [
        {
          "output_type": "stream",
          "name": "stdout",
          "text": [
            "The shortest path from Building 6 to Building 8 is Building 6 -> Building 9 Extension -> P.E. Center 1 -> Study Area -> Building 8\n"
          ]
        }
      ],
      "source": [
        "tip_graph = {'Building 6': ['Building 9', 'Building 9 Extension'],\n",
        "             'Building 9': ['Building 6', 'Building 5', 'Anniversary Hall'],\n",
        "             'Building 9 Extension': ['Building 6', 'P.E. Center 1', 'P.E. Center 2'],\n",
        "             'Building 5': ['Building 9', 'Anniversary Hall', 'Technocore'],\n",
        "             'Anniversary Hall': ['Building 9', 'Building 5', 'Garden'],\n",
        "             'P.E. Center 1': ['Building 9 Extension', 'Study Area', 'Building 1'],\n",
        "             'P.E. Center 2': ['Building 9 Extension'],\n",
        "             'Technocore': ['Building 5', 'Garden', 'Congregating Area'],\n",
        "             'Garden': ['Anniversary Hall', 'Technocore', 'Congregating Area'],\n",
        "             'Study Area': ['P.E. Center 1','Congregating Area', 'Building 1', 'Building 8'],\n",
        "             'Building 1': ['P.E. Center 1', 'Study Area'],\n",
        "             'Congregating Area': ['Technocore', 'Garden', 'Study Area'],\n",
        "             'Building 2': ['Congregating Area', 'Building 4', 'Building 3'],\n",
        "             'Building 8': ['Study Area'],\n",
        "             'Building 4': ['Building 2'],\n",
        "             'Building 3': ['Building 2']}\n",
        "\n",
        "class Node(object):\n",
        "    def __init__(self, name):\n",
        "        self.name = name\n",
        "\n",
        "    def getName(self):\n",
        "        return self.name\n",
        "\n",
        "class Graph(object):\n",
        "    def __init__(self):\n",
        "        self.edges = {}\n",
        "\n",
        "    def addNode(self, node):\n",
        "        if node in self.edges:\n",
        "            raise ValueError(\"Duplicate Node!\")\n",
        "        self.edges[node] = []\n",
        "\n",
        "    def addEdge(self, a, b):\n",
        "        if not (a in self.edges and b in self.edges):\n",
        "            raise ValueError(\"Node does not exist\")\n",
        "        self.edges[a].append(b)\n",
        "        self.edges[b].append(a)\n",
        "\n",
        "# BFS Algorithm\n",
        "def BFS(graph, start, end):\n",
        "    init_path = [(start, [start])]\n",
        "    visited = set()\n",
        "    while len(init_path) != 0:\n",
        "        node, path = init_path.pop(0)\n",
        "        visited.add(node)\n",
        "        if node == end:\n",
        "            return path\n",
        "        for next_node in graph.edges[node]:\n",
        "            if next_node not in visited:\n",
        "                init_path.append((next_node, path + [next_node]))\n",
        "    return None\n",
        "\n",
        "# Creating nodes and graph\n",
        "nodes = [Node(name) for name in tip_graph.keys()]\n",
        "\n",
        "graph = Graph()\n",
        "\n",
        "for node in nodes:\n",
        "    graph.addNode(node)\n",
        "\n",
        "for node, neighbors in tip_graph.items():\n",
        "    for neighbor_name in neighbors:\n",
        "        graph.addEdge(nodes[list(tip_graph.keys()).index(node)],\n",
        "                      nodes[list(tip_graph.keys()).index(neighbor_name)])\n",
        "\n",
        "# Test BFS\n",
        "startNode = nodes[list(tip_graph.keys()).index('Building 6')]\n",
        "endNode = nodes[list(tip_graph.keys()).index('Building 8')]\n",
        "\n",
        "bfs = BFS(graph, startNode, endNode)\n",
        "\n",
        "# Output\n",
        "print(f\"The shortest path from {bfs[0].getName()} to {bfs[-1].getName()} is {' -> '.join([node.getName() for node in bfs])}\")"
      ]
    },
    {
      "cell_type": "code",
      "source": [],
      "metadata": {
        "id": "rlsSOpRyaG3t"
      },
      "execution_count": null,
      "outputs": []
    }
  ]
}