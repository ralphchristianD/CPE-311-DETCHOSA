{
  "nbformat": 4,
  "nbformat_minor": 0,
  "metadata": {
    "colab": {
      "provenance": []
    },
    "kernelspec": {
      "name": "python3",
      "display_name": "Python 3"
    },
    "language_info": {
      "name": "python"
    }
  },
  "cells": [
    {
      "cell_type": "code",
      "execution_count": 6,
      "metadata": {
        "colab": {
          "base_uri": "https://localhost:8080/"
        },
        "id": "sDZwGSX6tm3i",
        "outputId": "1d2dd451-6eac-4fec-a157-b0a334298312"
      },
      "outputs": [
        {
          "output_type": "stream",
          "name": "stdout",
          "text": [
            "The shortest path from Building 6 to Technocore is Building 6 -> Building 9 -> Building 5 -> Technocore\n"
          ]
        }
      ],
      "source": [
        "class Node(object):\n",
        "    def __init__(self, name):\n",
        "        self.name = name\n",
        "\n",
        "    def getName(self):\n",
        "        return self.name\n",
        "\n",
        "class Graph(object):\n",
        "  def __init__(self):\n",
        "    self.edges = {}\n",
        "\n",
        "  def addNode(self, node):\n",
        "    if node in self.edges:\n",
        "      raise ValueError(\"Duplicate Node!\")\n",
        "    self.edges[node] = []\n",
        "\n",
        "  def addEdge(self, a, b):\n",
        "    if not (a in self.edges or b not in self.edges):\n",
        "      raise ValueError(\"Node does not exist\")\n",
        "    self.edges[a].append(b)\n",
        "    self.edges[b].append(a)\n",
        "\n",
        "  def displayNodes(self):\n",
        "    for node, right in self.edges.items():\n",
        "        print(f\"{node.getName()} -----> {[nodes.getName() for nodes in right]}\")\n",
        "\n",
        "\n",
        "def BFS(graph, start, end):\n",
        "  init_path = [(start, [start])]\n",
        "  visited = set()\n",
        "  while len(init_path) != 0:\n",
        "    node, path = init_path.pop(0)\n",
        "    visited.add(node)\n",
        "    if node == end:\n",
        "      return path\n",
        "\n",
        "    for next_node in graph.edges[node]:\n",
        "      if next_node not in visited:\n",
        "        init_path.append((next_node, path + [next_node]))\n",
        "\n",
        "  return None\n",
        "\n",
        "#Create Graph\n",
        "graph = Graph()\n",
        "\n",
        "# Create Nodes\n",
        "node1 = Node(\"Building 1\")\n",
        "node2 = Node(\"Building 2\")\n",
        "node3 = Node(\"Building 3\")\n",
        "node4 = Node(\"Building 4\")\n",
        "node5 = Node(\"Building 5\")\n",
        "node6 = Node(\"Building 6\")\n",
        "node7 = Node(\"Building 8\")\n",
        "node8 = Node(\"Building 9\")\n",
        "node9 = Node(\"Building 9 Extension\")\n",
        "node10 = Node(\"Anniversary Hall\")\n",
        "node11 = Node(\"Technocore\")\n",
        "node12 = Node(\"Garden\")\n",
        "node13 = Node(\"Study Area\")\n",
        "node14 = Node(\"Congregating Area\")\n",
        "node15 = Node(\"P.E. Center 1\")\n",
        "node16 = Node(\"P.E. Center 2\")\n",
        "\n",
        "# Add Node\n",
        "graph.addNode(node1)\n",
        "graph.addNode(node2)\n",
        "graph.addNode(node3)\n",
        "graph.addNode(node4)\n",
        "graph.addNode(node5)\n",
        "graph.addNode(node6)\n",
        "graph.addNode(node7)\n",
        "graph.addNode(node8)\n",
        "graph.addNode(node9)\n",
        "graph.addNode(node10)\n",
        "graph.addNode(node11)\n",
        "graph.addNode(node12)\n",
        "graph.addNode(node13)\n",
        "graph.addNode(node14)\n",
        "graph.addNode(node15)\n",
        "graph.addNode(node16)\n",
        "\n",
        "# Add Edge\n",
        "graph.addEdge(node6, node8)\n",
        "graph.addEdge(node6, node9)\n",
        "\n",
        "graph.addEdge(node8, node5)\n",
        "graph.addEdge(node8, node10)\n",
        "\n",
        "graph.addEdge(node5, node11)\n",
        "graph.addEdge(node10, node12)\n",
        "\n",
        "graph.addEdge(node11, node14)\n",
        "graph.addEdge(node14, node2)\n",
        "\n",
        "graph.addEdge(node2, node3)\n",
        "graph.addEdge(node2, node4)\n",
        "\n",
        "graph.addEdge(node9, node15)\n",
        "graph.addEdge(node9, node16)\n",
        "\n",
        "graph.addEdge(node15, node13)\n",
        "graph.addEdge(node15, node1)\n",
        "\n",
        "graph.addEdge(node13, node7)\n",
        "\n",
        "# the output of the displayNodes is as follows between the 3: [\"Parent\"] or [\"Child\"] or [\"Parent\", \"Child\"]\n",
        "shortest_bfs_path = BFS(graph, node6, node11)\n",
        "if shortest_bfs_path:\n",
        "    path = \" -> \".join([node.getName() for node in shortest_bfs_path])\n",
        "    print(f\"The shortest path from {shortest_bfs_path[0].getName()} to {shortest_bfs_path[-1].getName()} is {path}\")\n",
        "else:\n",
        "    print(\"No path exists between the nodes.\")\n"
      ]
    },
    {
      "cell_type": "code",
      "source": [
        "shortest_bfs_path = BFS(graph, node6, node3)\n",
        "if shortest_bfs_path:\n",
        "    path = \" -> \".join([node.getName() for node in shortest_bfs_path])\n",
        "    print(f\"The shortest path from {shortest_bfs_path[0].getName()} to {shortest_bfs_path[-1].getName()} is {path}\")\n",
        "else:\n",
        "    print(\"No path exists between the nodes.\")\n"
      ],
      "metadata": {
        "id": "74uGom-t5JH-",
        "colab": {
          "base_uri": "https://localhost:8080/"
        },
        "outputId": "1b9d3545-8e37-4c5c-8b70-39a8e7acf7d3"
      },
      "execution_count": 7,
      "outputs": [
        {
          "output_type": "stream",
          "name": "stdout",
          "text": [
            "The shortest path from Building 6 to Building 3 is Building 6 -> Building 9 -> Building 5 -> Technocore -> Congregating Area -> Building 2 -> Building 3\n"
          ]
        }
      ]
    },
    {
      "cell_type": "code",
      "source": [
        "shortest_bfs_path = BFS(graph, node14, node1)\n",
        "if shortest_bfs_path:\n",
        "    path = \" -> \".join([node.getName() for node in shortest_bfs_path])\n",
        "    print(f\"The shortest path from {shortest_bfs_path[0].getName()} to {shortest_bfs_path[-1].getName()} is {path}\")\n",
        "else:\n",
        "    print(\"No path exists between the nodes.\")\n"
      ],
      "metadata": {
        "colab": {
          "base_uri": "https://localhost:8080/"
        },
        "id": "Hg0t1IQ52Jlv",
        "outputId": "4f6d5385-2872-45a3-ffcc-210115f8490c"
      },
      "execution_count": 8,
      "outputs": [
        {
          "output_type": "stream",
          "name": "stdout",
          "text": [
            "The shortest path from Congregating Area to Building 1 is Congregating Area -> Technocore -> Building 5 -> Building 9 -> Building 6 -> Building 9 Extension -> P.E. Center 1 -> Building 1\n"
          ]
        }
      ]
    },
    {
      "cell_type": "code",
      "source": [],
      "metadata": {
        "id": "vpxIaQMB2Swl"
      },
      "execution_count": null,
      "outputs": []
    }
  ]
}